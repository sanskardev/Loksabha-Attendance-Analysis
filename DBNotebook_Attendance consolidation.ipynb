{
 "cells": [
  {
   "cell_type": "code",
   "execution_count": 0,
   "metadata": {
    "application/vnd.databricks.v1+cell": {
     "cellMetadata": {
      "byteLimit": 2048000,
      "rowLimit": 10000
     },
     "inputWidgets": {},
     "nuid": "4d4233aa-a3f9-4369-9d8f-d419e9edc466",
     "showTitle": false,
     "tableResultSettingsMap": {},
     "title": ""
    }
   },
   "outputs": [],
   "source": [
    "from pyspark.sql.types import StructType, StructField, StringType, DateType, IntegerType\n",
    "import pyspark.sql.functions as f\n",
    "from pyspark.sql.functions import input_file_name, col, lit"
   ]
  },
  {
   "cell_type": "code",
   "execution_count": 0,
   "metadata": {
    "application/vnd.databricks.v1+cell": {
     "cellMetadata": {
      "byteLimit": 2048000,
      "rowLimit": 10000
     },
     "inputWidgets": {},
     "nuid": "631ccdb8-8b4a-4586-95bb-3c0c0b48e2f6",
     "showTitle": false,
     "tableResultSettingsMap": {},
     "title": ""
    },
    "jupyter": {
     "outputs_hidden": true
    }
   },
   "outputs": [],
   "source": [
    "configs = {\"fs.azure.account.auth.type\": \"OAuth\",\n",
    "\"fs.azure.account.oauth.provider.type\": \"org.apache.hadoop.fs.azurebfs.oauth2.ClientCredsTokenProvider\",\n",
    "\"fs.azure.account.oauth2.client.id\": \"\",\n",
    "\"fs.azure.account.oauth2.client.secret\": \"\",\n",
    "\"fs.azure.account.oauth2.client.endpoint\": \"https://login.microsoftonline.com/<>/oauth2/token\"}"
   ]
  },
  {
   "cell_type": "code",
   "execution_count": 0,
   "metadata": {
    "application/vnd.databricks.v1+cell": {
     "cellMetadata": {
      "byteLimit": 2048000,
      "rowLimit": 10000
     },
     "inputWidgets": {},
     "nuid": "3c888de1-837b-47b5-a902-cf2577ceb821",
     "showTitle": false,
     "tableResultSettingsMap": {},
     "title": ""
    }
   },
   "outputs": [],
   "source": [
    "dbutils.fs.mount(\n",
    "source = \"abfss://container1@sanskarstorageaccount.dfs.core.windows.net\",\n",
    "mount_point = \"/mnt/loksabhaattendance\",\n",
    "extra_configs = configs)"
   ]
  },
  {
   "cell_type": "code",
   "execution_count": 0,
   "metadata": {
    "application/vnd.databricks.v1+cell": {
     "cellMetadata": {
      "byteLimit": 2048000,
      "rowLimit": 10000
     },
     "inputWidgets": {},
     "nuid": "ad25d9e5-d132-4fce-a8d2-b8b2d4c2e604",
     "showTitle": false,
     "tableResultSettingsMap": {},
     "title": ""
    }
   },
   "outputs": [],
   "source": [
    "schema = StructType([\n",
    "        StructField('mpsno', IntegerType(), False),\n",
    "        StructField('memberName', StringType(), False),\n",
    "        StructField('attendanceStatus', StringType(), True),\n",
    "        StructField('division', StringType(), True)\n",
    "    ])\n"
   ]
  },
  {
   "cell_type": "code",
   "execution_count": 0,
   "metadata": {
    "application/vnd.databricks.v1+cell": {
     "cellMetadata": {
      "byteLimit": 2048000,
      "rowLimit": 10000
     },
     "inputWidgets": {},
     "nuid": "800e1d3f-0cae-419a-87a7-3a5ddc1f123b",
     "showTitle": false,
     "tableResultSettingsMap": {},
     "title": ""
    }
   },
   "outputs": [
    {
     "name": "stdout",
     "output_type": "stream",
     "text": [
      "root\n",
      " |-- mpsno: integer (nullable = true)\n",
      " |-- memberName: string (nullable = true)\n",
      " |-- loksabha: integer (nullable = true)\n",
      " |-- session: integer (nullable = true)\n",
      " |-- date: date (nullable = true)\n",
      " |-- attendanceStatus: string (nullable = true)\n",
      "\n",
      "+-----+-----------------------------------------+--------+-------+----------+----------------+\n",
      "|mpsno|memberName                               |loksabha|session|date      |attendanceStatus|\n",
      "+-----+-----------------------------------------+--------+-------+----------+----------------+\n",
      "|4589 |Shri Narendra Modi                       |17      |8      |2022-02-11|NS              |\n",
      "|4268 |Shri Rajnath Singh                       |17      |8      |2022-02-11|NS              |\n",
      "|5021 |Shri Amit Shah                           |17      |8      |2022-02-11|NS              |\n",
      "|4923 |Shri Nitin Jairam Gadkari                |17      |8      |2022-02-11|NS              |\n",
      "|3979 |Shri Devaragunda Venkappa Sadananda Gowda|17      |8      |2022-02-11|NS              |\n",
      "|4507 |Shri Narendra Singh Tomar                |17      |8      |2022-02-11|NS              |\n",
      "|3982 |Shri Pralhad Joshi                       |17      |8      |2022-02-11|NS              |\n",
      "|4776 |Dr. Harsh Vardhan                        |17      |8      |2022-02-11|S               |\n",
      "|4917 |Dr. Mahendra Nath Pandey                 |17      |8      |2022-02-11|NS              |\n",
      "|4641 |Shri Giriraj Singh                       |17      |8      |2022-02-11|NS              |\n",
      "+-----+-----------------------------------------+--------+-------+----------+----------------+\n",
      "only showing top 10 rows\n",
      "\n",
      "596100\n"
     ]
    }
   ],
   "source": [
    "adls_path = '/mnt/loksabhaattendance/loksabha_attendance_files'\n",
    "\n",
    "attendance_df = spark.read.format(\"csv\").schema(schema).option(\"header\", \"true\").load(adls_path)\n",
    "\n",
    "attendance_df = attendance_df.withColumn(\n",
    "    'date', f.split(\n",
    "        f.split(\n",
    "            input_file_name(), '[/]'\n",
    "        ).getItem(6), '[.]'\n",
    "    ).getItem(0)\n",
    ")\n",
    "attendance_df = attendance_df.select(\n",
    "    'mpsno',\n",
    "    'memberName',\n",
    "    'loksabha',\n",
    "    'session',\n",
    "    f.to_date(col('date'), 'yyyy_M_d').cast(DateType()).alias('date'),\n",
    "    'attendanceStatus'\n",
    ")\n",
    "\n",
    "attendance_df.printSchema()\n",
    "attendance_df.show(10, truncate=False)\n",
    "print(attendance_df.count())"
   ]
  },
  {
   "cell_type": "code",
   "execution_count": 0,
   "metadata": {
    "application/vnd.databricks.v1+cell": {
     "cellMetadata": {
      "byteLimit": 2048000,
      "rowLimit": 10000
     },
     "inputWidgets": {},
     "nuid": "601b33e1-3bac-41b6-932d-c6b0e0d8cbfe",
     "showTitle": false,
     "tableResultSettingsMap": {},
     "title": ""
    }
   },
   "outputs": [],
   "source": [
    "attendance_url = '/mnt/loksabhaattendance/consolidated_attendance_file/'\n",
    "\n",
    "attendance_df.write.format('delta').mode(\"overwrite\").option(\"header\",'true').save(attendance_url)"
   ]
  }
 ],
 "metadata": {
  "application/vnd.databricks.v1+notebook": {
   "computePreferences": null,
   "dashboards": [],
   "environmentMetadata": {
    "base_environment": "",
    "client": "1"
   },
   "language": "python",
   "notebookMetadata": {
    "mostRecentlyExecutedCommandWithImplicitDF": {
     "commandId": 294113765118942,
     "dataframes": [
      "_sqldf"
     ]
    },
    "pythonIndentUnit": 4
   },
   "notebookName": "Attendance consolidation",
   "widgets": {}
  },
  "language_info": {
   "name": "python"
  }
 },
 "nbformat": 4,
 "nbformat_minor": 0
}
